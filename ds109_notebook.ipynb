{
 "cells": [
  {
   "cell_type": "code",
   "execution_count": 1,
   "metadata": {
    "collapsed": true
   },
   "outputs": [],
   "source": [
    "%matplotlib inline"
   ]
  },
  {
   "cell_type": "markdown",
   "metadata": {},
   "source": [
    "## Software Comparison Project with NIDM-Results\n",
    "\n",
    "This notebook demonstates how to reproduce the results presented in the Software Comparison Project publication using NIDM-Results packs available at [NeuroVault (2238)](http://neurovault.org/collections/2238/). We give visual comparisons between axial slices of the excursion set images and T-statistics for each software packages, as well as quantitative comparisons with Euler characteristics, Bland-Altman plots and Sørensen–Dice coefficients.\n"
   ]
  },
  {
   "cell_type": "code",
   "execution_count": 2,
   "metadata": {
    "collapsed": false
   },
   "outputs": [
    {
     "name": "stderr",
     "output_type": "stream",
     "text": [
      "/usr/local/lib/python2.7/site-packages/sklearn/cross_validation.py:44: DeprecationWarning: This module was deprecated in version 0.18 in favor of the model_selection module into which all the refactored classes and functions are moved. Also note that the interface of the new CV iterators are different from that of this module. This module will be removed in 0.20.\n",
      "  \"This module will be removed in 0.20.\", DeprecationWarning)\n"
     ]
    }
   ],
   "source": [
    "import os\n",
    "from subprocess import check_call\n",
    "import zipfile\n",
    "import json\n",
    "from urllib2 import urlopen, URLError, HTTPError\n",
    "from urllib2 import Request\n",
    "from nilearn import plotting"
   ]
  },
  {
   "cell_type": "markdown",
   "metadata": {},
   "source": [
    "### Download the NIDM-Results packs from NeuroVault\n",
    "\n",
    " - Query NeuroVault's API to retreive all NIDM packs in collection 2238\n",
    " - Download and save the packs in sub-folder `input/ds109/` "
   ]
  },
  {
   "cell_type": "code",
   "execution_count": 3,
   "metadata": {
    "collapsed": false
   },
   "outputs": [
    {
     "name": "stdout",
     "output_type": "stream",
     "text": [
      "http://neurovault.org/collections/2238/group.gfeat.nidm.zip already downloaded at ./input/ds109/group.gfeat.nidm.zip\n",
      "http://neurovault.org/collections/2238/spm_0001.nidm.zip already downloaded at ./input/ds109/spm_0001.nidm.zip\n",
      "http://neurovault.org/collections/2238/spm_0002.nidm.zip already downloaded at ./input/ds109/spm_0002.nidm.zip\n",
      "http://neurovault.org/media/images/2238/Negative_clustered_t_stat.nii.gz already downloaded at /Users/maullz/Desktop/Software_Comparison/input/ds109/afni_exc_set_neg.nii.gz\n",
      "http://neurovault.org/media/images/2238/Positive_clustered_t_stat.nii.gz already downloaded at /Users/maullz/Desktop/Software_Comparison/input/ds109/afni_exc_set_pos.nii.gz\n",
      "http://neurovault.org/media/images/2238/3dMEMA_result_t_stat_masked.nii.gz already downloaded at /Users/maullz/Desktop/Software_Comparison/input/ds109/afni_stat.nii.gz\n",
      "http://neurovault.org/media/images/2238/mask.nii.gz already downloaded at /Users/maullz/Desktop/Software_Comparison/input/ds109/afni_mask.nii.gz\n",
      "https://raw.githubusercontent.com/AlexBowring/Software_Comparison/master/ds109/AFNI/LEVEL2/euler_chars.csv already downloaded at /Users/maullz/Desktop/Software_Comparison/input/ds109/afni_euler_chars.csv\n",
      "https://raw.githubusercontent.com/AlexBowring/Software_Comparison/master/ds109/FSL/LEVEL2/group.gfeat/cope1.feat/stats/euler_chars.csv already downloaded at /Users/maullz/Desktop/Software_Comparison/input/ds109/fsl_euler_chars.csv\n",
      "https://raw.githubusercontent.com/AlexBowring/Software_Comparison/master/ds109/SPM/LEVEL2/euler_chars.csv already downloaded at /Users/maullz/Desktop/Software_Comparison/input/ds109/spm_euler_chars.csv\n",
      "http://neurovault.org/media/images/2238/afni_fsl_reslice.nii.gz already downloaded at /Users/maullz/Desktop/Software_Comparison/input/ds109/afni_fsl_reslice.nii.gz\n",
      "http://neurovault.org/media/images/2238/afni_fsl_reslice_pos_exc.nii.gz already downloaded at /Users/maullz/Desktop/Software_Comparison/input/ds109/afni_fsl_reslice_pos_exc.nii.gz\n",
      "http://neurovault.org/media/images/2238/afni_fsl_reslice_neg_exc.nii.gz already downloaded at /Users/maullz/Desktop/Software_Comparison/input/ds109/afni_fsl_reslice_neg_exc.nii.gz\n",
      "http://neurovault.org/media/images/2238/afni_reslice_fsl.nii.gz already downloaded at /Users/maullz/Desktop/Software_Comparison/input/ds109/afni_reslice_fsl.nii.gz\n",
      "http://neurovault.org/media/images/2238/afni_reslice_fsl_pos_exc.nii.gz already downloaded at /Users/maullz/Desktop/Software_Comparison/input/ds109/afni_reslice_fsl_pos_exc.nii.gz\n",
      "http://neurovault.org/media/images/2238/afni_reslice_fsl_neg_exc.nii.gz already downloaded at /Users/maullz/Desktop/Software_Comparison/input/ds109/afni_reslice_fsl_neg_exc.nii.gz\n",
      "http://neurovault.org/media/images/2238/afni_spm_reslice.nii.gz already downloaded at /Users/maullz/Desktop/Software_Comparison/input/ds109/afni_spm_reslice.nii.gz\n",
      "http://neurovault.org/media/images/2238/afni_spm_reslice_pos_exc.nii.gz already downloaded at /Users/maullz/Desktop/Software_Comparison/input/ds109/afni_spm_reslice_pos_exc.nii.gz\n",
      "http://neurovault.org/media/images/2238/afni_spm_reslice_neg_exc.nii.gz already downloaded at /Users/maullz/Desktop/Software_Comparison/input/ds109/afni_spm_reslice_neg_exc.nii.gz\n",
      "http://neurovault.org/media/images/2238/afni_reslice_spm.nii.gz already downloaded at /Users/maullz/Desktop/Software_Comparison/input/ds109/afni_reslice_spm.nii.gz\n",
      "http://neurovault.org/media/images/2238/afni_reslice_spm_pos_exc.nii.gz already downloaded at /Users/maullz/Desktop/Software_Comparison/input/ds109/afni_reslice_spm_pos_exc.nii.gz\n",
      "http://neurovault.org/media/images/2238/afni_reslice_spm_neg_exc.nii.gz already downloaded at /Users/maullz/Desktop/Software_Comparison/input/ds109/afni_reslice_spm_neg_exc.nii.gz\n",
      "http://neurovault.org/media/images/2238/fsl_spm_reslice.nii.gz already downloaded at /Users/maullz/Desktop/Software_Comparison/input/ds109/fsl_spm_reslice.nii.gz\n",
      "http://neurovault.org/media/images/2238/fsl_spm_reslice_pos_exc.nii.gz already downloaded at /Users/maullz/Desktop/Software_Comparison/input/ds109/fsl_spm_reslice_pos_exc.nii.gz\n",
      "http://neurovault.org/media/images/2238/fsl_spm_reslice_neg_exc.nii.gz already downloaded at /Users/maullz/Desktop/Software_Comparison/input/ds109/fsl_spm_reslice_neg_exc.nii.gz\n",
      "http://neurovault.org/media/images/2238/fsl_reslice_spm.nii.gz already downloaded at /Users/maullz/Desktop/Software_Comparison/input/ds109/fsl_reslice_spm.nii.gz\n",
      "http://neurovault.org/media/images/2238/fsl_reslice_spm_pos_exc.nii.gz already downloaded at /Users/maullz/Desktop/Software_Comparison/input/ds109/fsl_reslice_spm_pos_exc.nii.gz\n",
      "http://neurovault.org/media/images/2238/fsl_reslice_spm_neg_exc.nii.gz already downloaded at /Users/maullz/Desktop/Software_Comparison/input/ds109/fsl_reslice_spm_neg_exc.nii.gz\n"
     ]
    }
   ],
   "source": [
    "nv_collection ='2238'\n",
    "study ='ds109'\n",
    "\n",
    "\n",
    "request = Request('http://neurovault.org/api/collections/' + nv_collection + '/nidm_results/?limit=184&format=json')\n",
    "response = urlopen(request)\n",
    "elevations = response.read()\n",
    "data = json.loads(elevations)\n",
    "\n",
    "pwd = os.path.dirname(os.path.realpath('__file__'))\n",
    "input_dir = os.path.join(pwd, \"input\")\n",
    "data_dir = os.path.join(input_dir, study)\n",
    "\n",
    "if not os.path.isdir(data_dir):\n",
    "    if not os.path.isdir(input_dir):\n",
    "        os.makedirs(input_dir)\n",
    "    os.makedirs(data_dir)\n",
    "\n",
    "for nidm_result in data[\"results\"]:\n",
    "    url = nidm_result[\"zip_file\"]\n",
    "    study_name = nidm_result[\"name\"]\n",
    "\n",
    "    localzip = os.path.join(data_dir, study_name + \".zip\")\n",
    "    localzip_rel = localzip.replace(pwd, '.')\n",
    "    if not os.path.isfile(localzip):\n",
    "        # Copy .nidm.zip export locally in a the data directory\n",
    "        try:\n",
    "            f = urlopen(url)\n",
    "            print(\"downloading \" + url + \" at \" + localzip_rel)\n",
    "            with open(localzip, \"wb\") as local_file:\n",
    "                local_file.write(f.read())\n",
    "        except HTTPError, e:\n",
    "            raise Exception([\"HTTP Error:\" + e.code + url])\n",
    "        except URLError, e:\n",
    "            raise Exception([\"URL Error:\" + e.reason + url])\n",
    "    else:\n",
    "        print(url + \" already downloaded at \" + localzip_rel)\n",
    "\n",
    "for afni_image, local_name in (\n",
    "        ('Negative_clustered_t_stat.nii.gz', 'afni_exc_set_neg.nii.gz'), \n",
    "        ('Positive_clustered_t_stat.nii.gz', 'afni_exc_set_pos.nii.gz'),\n",
    "        ('3dMEMA_result_t_stat_masked.nii.gz', 'afni_stat.nii.gz'),\n",
    "        ('mask.nii.gz', 'afni_mask.nii.gz')):\n",
    "\n",
    "    url = \"http://neurovault.org/media/images/\" + nv_collection + '/' + afni_image\n",
    "    local_file = os.path.join(data_dir, local_name)\n",
    "    if not os.path.isfile(local_file):\n",
    "        # Copy file locally in a the data directory\n",
    "        try:\n",
    "            f = urlopen(url)\n",
    "            print(\"downloading \" + url + \" at \" + local_file)\n",
    "            with open(local_file, \"wb\") as local_fid:\n",
    "                local_fid.write(f.read())\n",
    "        except HTTPError, e:\n",
    "            raise Exception([\"HTTP Error:\" + str(e.code) + url])\n",
    "        except URLError, e:\n",
    "            raise Exception([\"URL Error:\" + e.reason + url])\n",
    "    else:\n",
    "        print(url + \" already downloaded at \" + local_file)\n",
    "\n",
    "for euler_char_file, local_name in (\n",
    "        ('AFNI/LEVEL2/euler_chars.csv', 'afni_euler_chars.csv'),\n",
    "        ('FSL/LEVEL2/group.gfeat/cope1.feat/stats/euler_chars.csv', 'fsl_euler_chars.csv'),\n",
    "        ('SPM/LEVEL2/euler_chars.csv', 'spm_euler_chars.csv')):\n",
    "\n",
    "    url = \"https://raw.githubusercontent.com/AlexBowring/Software_Comparison/master/\" + study + \"/\" + euler_char_file\n",
    "    local_file = os.path.join(data_dir, local_name)\n",
    "    if not os.path.isfile(local_file):\n",
    "        # Copy file locally in a the data directory\n",
    "        try:\n",
    "            f = urlopen(url)\n",
    "            print(\"downloading \" + url + \" at \" + local_file)\n",
    "            with open(local_file, \"wb\") as local_fid:\n",
    "                local_fid.write(f.read())\n",
    "        except HTTPError, e:\n",
    "            raise Exception([\"HTTP Error:\" + str(e.code) + url])\n",
    "        except URLError, e:\n",
    "            raise Exception([\"URL Error:\" + e.reason + url])\n",
    "    else:\n",
    "        print(url + \" already downloaded at \" + local_file)\n",
    "        \n",
    "for resliced_image in (('afni_fsl_reslice.nii.gz', 'afni_fsl_reslice_pos_exc.nii.gz','afni_fsl_reslice_neg_exc.nii.gz',\n",
    "                        'afni_reslice_fsl.nii.gz', 'afni_reslice_fsl_pos_exc.nii.gz','afni_reslice_fsl_neg_exc.nii.gz',\n",
    "                        'afni_spm_reslice.nii.gz', 'afni_spm_reslice_pos_exc.nii.gz','afni_spm_reslice_neg_exc.nii.gz',\n",
    "                        'afni_reslice_spm.nii.gz', 'afni_reslice_spm_pos_exc.nii.gz','afni_reslice_spm_neg_exc.nii.gz',\n",
    "                        'fsl_spm_reslice.nii.gz', 'fsl_spm_reslice_pos_exc.nii.gz','fsl_spm_reslice_neg_exc.nii.gz',\n",
    "                        'fsl_reslice_spm.nii.gz', 'fsl_reslice_spm_pos_exc.nii.gz','fsl_reslice_spm_neg_exc.nii.gz',)):\n",
    "    url = \"http://neurovault.org/media/images/\" + nv_collection + '/' + resliced_image\n",
    "    local_file = os.path.join(data_dir, resliced_image)\n",
    "    if not os.path.isfile(local_file):\n",
    "        # Copy file locally in a the data directory\n",
    "        try:\n",
    "            f = urlopen(url)\n",
    "            print(\"downloading \" + url + \" at \" + local_file)\n",
    "            with open(local_file, \"wb\") as local_fid:\n",
    "                local_fid.write(f.read())\n",
    "        except HTTPError, e:\n",
    "            raise Exception([\"HTTP Error:\" + str(e.code) + url])\n",
    "        except URLError, e:\n",
    "            raise Exception([\"URL Error:\" + e.reason + url])\n",
    "    else:\n",
    "        print(url + \" already downloaded at \" + local_file)"
   ]
  },
  {
   "cell_type": "code",
   "execution_count": null,
   "metadata": {
    "collapsed": false
   },
   "outputs": [],
   "source": [
    "import zipfile\n",
    "import shutil\n",
    "import pandas as pd\n",
    "\n",
    "# *** SPM group activations\n",
    "spm_pack = open('./input/' + study + '/spm_0001.nidm.zip', 'rb')\n",
    "z = zipfile.ZipFile(spm_pack)\n",
    "z.extract('ExcursionSet.nii.gz', './input/' + study + '/')\n",
    "z.extract('Mask.nii.gz', './input/' + study + '/')\n",
    "z.extract('TStatistic.nii.gz', './input/' + study + '/')\n",
    "\n",
    "# Thresholded statistics\n",
    "spm_exc_set_file = './input/' + study + '/spm_exc_set.nii.gz'\n",
    "shutil.move('./input/' + study + '/ExcursionSet.nii.gz', spm_exc_set_file)\n",
    "\n",
    "# Unthresholded statistics\n",
    "spm_stat_file = './input/' + study + '/spm_stat.nii.gz'\n",
    "shutil.move('./input/' + study + '/TStatistic.nii.gz', spm_stat_file)\n",
    "\n",
    "# Analysis mask\n",
    "spm_mask_file = './input/' + study + '/spm_mask.nii.gz'\n",
    "shutil.move('./input/' + study + '/Mask.nii.gz', spm_mask_file)\n",
    "\n",
    "# *** SPM group deactivations\n",
    "spm_deact_pack = open('./input/' + study + '/spm_0002.nidm.zip', 'rb')\n",
    "z = zipfile.ZipFile(spm_deact_pack)\n",
    "z.extract('ExcursionSet.nii.gz', './input/' + study + '/')\n",
    "\n",
    "# Thresholded statistics\n",
    "spm_exc_set_file_neg = './input/' + study + '/spm_exc_set_neg.nii.gz'\n",
    "shutil.move('./input/' + study + '/ExcursionSet.nii.gz', spm_exc_set_file_neg)\n",
    "\n",
    "# *** FSL group activations and deactivations\n",
    "fsl_pack = open('./input/' + study + '/group.gfeat.nidm.zip', 'rb')\n",
    "z = zipfile.ZipFile(fsl_pack)\n",
    "z.extract('ExcursionSet_T001.nii.gz', './input/' + study + '/')\n",
    "z.extract('ExcursionSet_T002.nii.gz', './input/' + study + '/')\n",
    "z.extract('Mask.nii.gz', './input/' + study + '/')\n",
    "z.extract('TStatistic_T001.nii.gz', './input/' + study + '/')\n",
    "\n",
    "# Thresholded statistics\n",
    "fsl_exc_set_file = './input/' + study + '/fsl_exc_set.nii.gz'\n",
    "shutil.move('./input/' + study + '/ExcursionSet_T001.nii.gz', fsl_exc_set_file)\n",
    "fsl_exc_set_file_neg = './input/' + study + '/fsl_exc_set_neg.nii.gz'\n",
    "shutil.move('./input/' + study + '/ExcursionSet_T002.nii.gz', fsl_exc_set_file_neg)\n",
    "\n",
    "# Unthresholded statistics\n",
    "fsl_stat_file = './input/' + study + '/fsl_stat.nii.gz'\n",
    "shutil.move('./input/' + study + '/TStatistic_T001.nii.gz', fsl_stat_file)\n",
    "\n",
    "# Analysis mask\n",
    "fsl_mask_file = './input/' + study + '/fsl_mask.nii.gz'\n",
    "shutil.move('./input/' + study + '/Mask.nii.gz', fsl_mask_file)\n",
    "\n",
    "# *** AFNI group activations and deactivations\n",
    "afni_mask_file = './input/' + study + '/afni_mask.nii.gz'\n",
    "afni_exc_set_file = './input/' + study + '/afni_exc_set_pos.nii.gz'\n",
    "afni_exc_set_file_neg = './input/' + study + '/afni_exc_set_neg.nii.gz'\n",
    "afni_stat_file = './input/' + study + '/afni_stat.nii.gz'\n",
    "\n",
    "exc_sets = dict()\n",
    "exc_sets[\"spm\"] = (spm_mask_file, (spm_exc_set_file, spm_exc_set_file_neg), spm_stat_file)\n",
    "exc_sets[\"fsl\"] = (fsl_mask_file, (fsl_exc_set_file, fsl_exc_set_file_neg), fsl_stat_file)\n",
    "exc_sets[\"afni\"] = (afni_mask_file, (afni_exc_set_file, afni_exc_set_file_neg), afni_stat_file)\n",
    "\n",
    "# *** Resliced images\n",
    "# FSL resliced onto AFNI\n",
    "afni_fsl_reslice = './input/' + study + '/afni_fsl_reslice.nii.gz'\n",
    "afni_fsl_reslice_pos_exc = './input/' + study + '/afni_fsl_reslice_pos_exc.nii.gz'\n",
    "afni_fsl_reslice_neg_exc = './input/' + study + '/afni_fsl_reslice_neg_exc.nii.gz'\n",
    "# AFNI resliced onto FSL\n",
    "afni_reslice_fsl = './input/' + study + '/afni_reslice_fsl.nii.gz'\n",
    "afni_reslice_fsl_pos_exc = './input/' + study + '/afni_reslice_fsl_pos_exc.nii.gz'\n",
    "afni_reslice_fsl_neg_exc = './input/' + study + '/afni_reslice_fsl_neg_exc.nii.gz'\n",
    "\n",
    "# SPM resliced onto AFNI\n",
    "afni_spm_reslice = './input/' + study + '/afni_spm_reslice.nii.gz'\n",
    "afni_spm_reslice_pos_exc = './input/' + study + '/afni_spm_reslice_pos_exc.nii.gz'\n",
    "afni_spm_reslice_neg_exc = './input/' + study + '/afni_spm_reslice_neg_exc.nii.gz'\n",
    "# AFNI resliced onto SPM\n",
    "afni_reslice_spm = './input/' + study + '/afni_reslice_spm.nii.gz'\n",
    "afni_reslice_spm_pos_exc = './input/' + study + '/afni_reslice_spm_pos_exc.nii.gz'\n",
    "afni_reslice_spm_neg_exc = './input/' + study + '/afni_reslice_spm_neg_exc.nii.gz'\n",
    "\n",
    "# SPM resliced onto FSL\n",
    "fsl_spm_reslice  = './input/' + study + '/fsl_spm_reslice.nii.gz'\n",
    "fsl_spm_reslice_pos_exc = './input/' + study + '/fsl_spm_reslice_pos_exc.nii.gz'\n",
    "fsl_spm_reslice_neg_exc = './input/' + study + '/fsl_spm_reslice_neg_exc.nii.gz'\n",
    "# FSL resliced onto SPM\n",
    "fsl_reslice_spm = './input/' + study + '/fsl_reslice_spm.nii.gz'\n",
    "fsl_reslice_spm_pos_exc = './input/' + study + '/fsl_reslice_spm_pos_exc.nii.gz'\n",
    "fsl_reslice_spm_neg_exc = './input/' + study + '/fsl_reslice_spm_neg_exc.nii.gz'\n",
    "\n",
    "# Euler Characteristics\n",
    "afni_euler_chars = pd.read_csv('./input/' + study + '/afni_euler_chars.csv', header=None, names=['Threshold','AFNI EC'])\n",
    "fsl_euler_chars = pd.read_csv('./input/' + study + '/fsl_euler_chars.csv', usecols=[1], header=None, names=['FSL EC'])\n",
    "spm_euler_chars = pd.read_csv('./input/' + study + '/spm_euler_chars.csv', usecols=[1], header=None, names=['SPM EC'])\n",
    "euler_chars = pd.concat([afni_euler_chars, fsl_euler_chars, spm_euler_chars], axis=1)"
   ]
  },
  {
   "cell_type": "code",
   "execution_count": null,
   "metadata": {
    "collapsed": false
   },
   "outputs": [],
   "source": [
    "from scripts.lib import plot_excursion_sets\n",
    "reload(plot_excursion_sets)\n",
    "plot_excursion_sets.plot_excursion_sets(exc_sets)"
   ]
  },
  {
   "cell_type": "code",
   "execution_count": null,
   "metadata": {
    "collapsed": false
   },
   "outputs": [],
   "source": [
    "from scripts.lib import plot_stat_images\n",
    "reload(plot_stat_images)\n",
    "plot_stat_images.plot_stat_images(afni_stat_file, spm_stat_file, [-17, 1, 15], fsl_stat_file)"
   ]
  },
  {
   "cell_type": "code",
   "execution_count": null,
   "metadata": {
    "collapsed": false
   },
   "outputs": [],
   "source": [
    "from scripts.lib import euler_characteristics\n",
    "reload(euler_characteristics)\n",
    "euler_characteristics.euler_characteristics(euler_chars)"
   ]
  },
  {
   "cell_type": "code",
   "execution_count": null,
   "metadata": {
    "collapsed": false
   },
   "outputs": [],
   "source": [
    "from scripts.lib import bland_altman\n",
    "reload(bland_altman)\n",
    "bland_altman.bland_altman(afni_stat_file, spm_stat_file,\n",
    "             afni_reslice_spm, afni_spm_reslice,\n",
    "             fsl_stat_file, fsl_reslice_spm,\n",
    "             afni_fsl_reslice, afni_reslice_fsl, fsl_spm_reslice)"
   ]
  },
  {
   "cell_type": "code",
   "execution_count": null,
   "metadata": {
    "collapsed": false
   },
   "outputs": [],
   "source": [
    "from scripts.lib import dice\n",
    "reload(dice)\n",
    "dice.dice(afni_exc_set_file, afni_exc_set_file_neg, \n",
    "         spm_exc_set_file, spm_exc_set_file_neg,\n",
    "         afni_reslice_spm_pos_exc, afni_reslice_spm_neg_exc, \n",
    "         afni_spm_reslice_pos_exc, afni_spm_reslice_neg_exc,\n",
    "         afni_reslice_fsl_pos_exc, afni_reslice_fsl_neg_exc, \n",
    "         afni_fsl_reslice_pos_exc, afni_fsl_reslice_neg_exc,\n",
    "         fsl_exc_set_file, fsl_exc_set_file_neg, \n",
    "         fsl_reslice_spm_pos_exc, fsl_reslice_spm_neg_exc,\n",
    "         fsl_spm_reslice_pos_exc, fsl_spm_reslice_neg_exc)"
   ]
  }
 ],
 "metadata": {
  "anaconda-cloud": {},
  "kernelspec": {
   "display_name": "Python 2",
   "language": "python",
   "name": "python2"
  },
  "language_info": {
   "codemirror_mode": {
    "name": "ipython",
    "version": 2
   },
   "file_extension": ".py",
   "mimetype": "text/x-python",
   "name": "python",
   "nbconvert_exporter": "python",
   "pygments_lexer": "ipython2",
   "version": "2.7.11"
  }
 },
 "nbformat": 4,
 "nbformat_minor": 1
}
