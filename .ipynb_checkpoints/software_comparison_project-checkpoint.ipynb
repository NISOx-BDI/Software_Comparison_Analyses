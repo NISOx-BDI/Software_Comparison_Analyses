{
 "cells": [
  {
   "cell_type": "markdown",
   "metadata": {},
   "source": [
    "## Software Comparison Project with NIDM-Results\n",
    "\n",
    "This notebook demonstates how to reproduce the results presented in the Software Comparison Project publication using NIDM-Results packs available on [NeuroVault (ZJNRUHIM)](http://neurovault.org/collections/ZJNRUHIM/).\n"
   ]
  },
  {
   "cell_type": "code",
   "execution_count": 4,
   "metadata": {
    "collapsed": false
   },
   "outputs": [
    {
     "ename": "ImportError",
     "evalue": "('No module named scipy', 'Module \"scipy\" could not be found. See http://nilearn.github.io/introduction.html#installation for installation information.')",
     "output_type": "error",
     "traceback": [
      "\u001b[0;31m---------------------------------------------------------------------------\u001b[0m",
      "\u001b[0;31mImportError\u001b[0m                               Traceback (most recent call last)",
      "\u001b[0;32m<ipython-input-4-053a9f14f58e>\u001b[0m in \u001b[0;36m<module>\u001b[0;34m()\u001b[0m\n\u001b[1;32m      9\u001b[0m \u001b[0;32mimport\u001b[0m \u001b[0mzipfile\u001b[0m\u001b[0;34m\u001b[0m\u001b[0m\n\u001b[1;32m     10\u001b[0m \u001b[0;32mimport\u001b[0m \u001b[0mjson\u001b[0m\u001b[0;34m\u001b[0m\u001b[0m\n\u001b[0;32m---> 11\u001b[0;31m \u001b[0;32mimport\u001b[0m \u001b[0mnilearn\u001b[0m\u001b[0;34m\u001b[0m\u001b[0m\n\u001b[0m\u001b[1;32m     12\u001b[0m \u001b[0;32mfrom\u001b[0m \u001b[0murllib2\u001b[0m \u001b[0;32mimport\u001b[0m \u001b[0murlopen\u001b[0m\u001b[0;34m,\u001b[0m \u001b[0mURLError\u001b[0m\u001b[0;34m,\u001b[0m \u001b[0mHTTPError\u001b[0m\u001b[0;34m\u001b[0m\u001b[0m\n\u001b[1;32m     13\u001b[0m \u001b[0;32mfrom\u001b[0m \u001b[0murllib2\u001b[0m \u001b[0;32mimport\u001b[0m \u001b[0mRequest\u001b[0m\u001b[0;34m\u001b[0m\u001b[0m\n",
      "\u001b[0;32m/Users/maullz/Library/Python/2.7/lib/python/site-packages/nilearn/__init__.py\u001b[0m in \u001b[0;36m<module>\u001b[0;34m()\u001b[0m\n\u001b[1;32m     37\u001b[0m \u001b[0;32mfrom\u001b[0m \u001b[0;34m.\u001b[0m\u001b[0mversion\u001b[0m \u001b[0;32mimport\u001b[0m \u001b[0m_check_module_dependencies\u001b[0m\u001b[0;34m,\u001b[0m \u001b[0m__version__\u001b[0m\u001b[0;34m\u001b[0m\u001b[0m\n\u001b[1;32m     38\u001b[0m \u001b[0;34m\u001b[0m\u001b[0m\n\u001b[0;32m---> 39\u001b[0;31m \u001b[0m_check_module_dependencies\u001b[0m\u001b[0;34m(\u001b[0m\u001b[0;34m)\u001b[0m\u001b[0;34m\u001b[0m\u001b[0m\n\u001b[0m\u001b[1;32m     40\u001b[0m \u001b[0;34m\u001b[0m\u001b[0m\n\u001b[1;32m     41\u001b[0m \u001b[0;31m# Monkey-patch gzip to have faster reads on large gzip files\u001b[0m\u001b[0;34m\u001b[0m\u001b[0;34m\u001b[0m\u001b[0m\n",
      "\u001b[0;32m/Users/maullz/Library/Python/2.7/lib/python/site-packages/nilearn/version.pyc\u001b[0m in \u001b[0;36m_check_module_dependencies\u001b[0;34m(is_nilearn_installing)\u001b[0m\n\u001b[1;32m    109\u001b[0m                 \u001b[0mmodule_name\u001b[0m\u001b[0;34m=\u001b[0m\u001b[0mmodule_name\u001b[0m\u001b[0;34m,\u001b[0m\u001b[0;34m\u001b[0m\u001b[0m\n\u001b[1;32m    110\u001b[0m                 \u001b[0mminimum_version\u001b[0m\u001b[0;34m=\u001b[0m\u001b[0mmodule_metadata\u001b[0m\u001b[0;34m[\u001b[0m\u001b[0;34m'min_version'\u001b[0m\u001b[0;34m]\u001b[0m\u001b[0;34m,\u001b[0m\u001b[0;34m\u001b[0m\u001b[0m\n\u001b[0;32m--> 111\u001b[0;31m                 install_info=module_metadata.get('install_info'))\n\u001b[0m",
      "\u001b[0;32m/Users/maullz/Library/Python/2.7/lib/python/site-packages/nilearn/version.pyc\u001b[0m in \u001b[0;36m_import_module_with_version_check\u001b[0;34m(module_name, minimum_version, install_info)\u001b[0m\n\u001b[1;32m     59\u001b[0m \u001b[0;34m\u001b[0m\u001b[0m\n\u001b[1;32m     60\u001b[0m     \u001b[0;32mtry\u001b[0m\u001b[0;34m:\u001b[0m\u001b[0;34m\u001b[0m\u001b[0m\n\u001b[0;32m---> 61\u001b[0;31m         \u001b[0mmodule\u001b[0m \u001b[0;34m=\u001b[0m \u001b[0m__import__\u001b[0m\u001b[0;34m(\u001b[0m\u001b[0mmodule_name\u001b[0m\u001b[0;34m)\u001b[0m\u001b[0;34m\u001b[0m\u001b[0m\n\u001b[0m\u001b[1;32m     62\u001b[0m     \u001b[0;32mexcept\u001b[0m \u001b[0mImportError\u001b[0m \u001b[0;32mas\u001b[0m \u001b[0mexc\u001b[0m\u001b[0;34m:\u001b[0m\u001b[0;34m\u001b[0m\u001b[0m\n\u001b[1;32m     63\u001b[0m         user_friendly_info = ('Module \"{0}\" could not be found. {1}').format(\n",
      "\u001b[0;31mImportError\u001b[0m: ('No module named scipy', 'Module \"scipy\" could not be found. See http://nilearn.github.io/introduction.html#installation for installation information.')"
     ]
    }
   ],
   "source": [
    "import os\n",
    "from rdflib.graph import Graph\n",
    "from rdflib.term import URIRef\n",
    "from subprocess import check_call\n",
    "from nidmresults.graph import Graph\n",
    "from nidmresults.objects.constants import SCR_FSL, SCR_SPM\n",
    "import collections\n",
    "import glob\n",
    "import zipfile\n",
    "import json\n",
    "import nilearn\n",
    "from urllib2 import urlopen, URLError, HTTPError\n",
    "from urllib2 import Request\n",
    "from nilearn import plotting"
   ]
  },
  {
   "cell_type": "markdown",
   "metadata": {},
   "source": [
    "### Download the NIDM-Results packs from NeuroVault\n",
    "\n",
    " - Query NeuroVault's API to retreive all NIDM packs in collection ZJNRUHIM\n",
    " - Download and save the packs in sub-folder `input/data` "
   ]
  },
  {
   "cell_type": "code",
   "execution_count": 4,
   "metadata": {
    "collapsed": false
   },
   "outputs": [
    {
     "name": "stdout",
     "output_type": "stream",
     "text": [
      "http://neurovault.org/collections/ZJNRUHIM/spm_0001.nidm.zip already downloaded at ./input/data/spm_0001.nidm.zip\n"
     ]
    }
   ],
   "source": [
    "request = Request('http://neurovault.org/api/collections/ZJNRUHIM/nidm_results/?limit=184&format=json')\n",
    "response = urlopen(request)\n",
    "elevations = response.read()\n",
    "data = json.loads(elevations)\n",
    "\n",
    "pwd = os.path.dirname(os.path.realpath('__file__'))\n",
    "input_dir = os.path.join(pwd, \"input\")\n",
    "data_dir = os.path.join(input_dir, \"data\")\n",
    "\n",
    "if not os.path.isdir(data_dir):\n",
    "    if not os.path.isdir(input_dir):\n",
    "        os.makedirs(input_dir)\n",
    "    os.makedirs(data_dir)\n",
    "\n",
    "\n",
    "for nidm_result in data[\"results\"]:\n",
    "    url = nidm_result[\"zip_file\"]\n",
    "    study_name = nidm_result[\"name\"]\n",
    "    \n",
    "    localzip = os.path.join(data_dir, study_name + \".zip\")\n",
    "    localzip_rel = localzip.replace(pwd, '.')\n",
    "    if not os.path.isfile(localzip):\n",
    "        # Copy .nidm.zip export locally in a the data directory\n",
    "        try:\n",
    "            f = urlopen(url)\n",
    "            print(\"downloading \" + url + \" at \" + localzip_rel)\n",
    "            with open(localzip, \"wb\") as local_file:\n",
    "                local_file.write(f.read())\n",
    "        except HTTPError, e:\n",
    "            raise Exception([\"HTTP Error:\" + e.code + url])\n",
    "        except URLError, e:\n",
    "            raise Exception([\"URL Error:\" + e.reason + url])\n",
    "    else:\n",
    "        print(url + \" already downloaded at \" + localzip_rel)"
   ]
  },
  {
   "cell_type": "code",
   "execution_count": 2,
   "metadata": {
    "collapsed": false
   },
   "outputs": [
    {
     "ename": "NameError",
     "evalue": "name 'glob' is not defined",
     "output_type": "error",
     "traceback": [
      "\u001b[0;31m---------------------------------------------------------------------------\u001b[0m",
      "\u001b[0;31mNameError\u001b[0m                                 Traceback (most recent call last)",
      "\u001b[0;32m<ipython-input-2-afdf7cad3d6c>\u001b[0m in \u001b[0;36m<module>\u001b[0;34m()\u001b[0m\n\u001b[0;32m----> 1\u001b[0;31m \u001b[0mstudies\u001b[0m \u001b[0;34m=\u001b[0m \u001b[0mglob\u001b[0m\u001b[0;34m.\u001b[0m\u001b[0mglob\u001b[0m\u001b[0;34m(\u001b[0m\u001b[0mos\u001b[0m\u001b[0;34m.\u001b[0m\u001b[0mpath\u001b[0m\u001b[0;34m.\u001b[0m\u001b[0mjoin\u001b[0m\u001b[0;34m(\u001b[0m\u001b[0mdata_dir\u001b[0m\u001b[0;34m,\u001b[0m \u001b[0;34m'*.nidm.zip'\u001b[0m\u001b[0;34m)\u001b[0m\u001b[0;34m)\u001b[0m\u001b[0;34m\u001b[0m\u001b[0m\n\u001b[0m\u001b[1;32m      2\u001b[0m \u001b[0mlocal_spm_canonical_dir\u001b[0m \u001b[0;34m=\u001b[0m \u001b[0;34m'/Users/maullz/Software/spm12/canonical/'\u001b[0m\u001b[0;34m\u001b[0m\u001b[0m\n\u001b[1;32m      3\u001b[0m \u001b[0mstudies\u001b[0m \u001b[0;34m=\u001b[0m \u001b[0mstudies\u001b[0m\u001b[0;34m[\u001b[0m\u001b[0;36m0\u001b[0m\u001b[0;34m:\u001b[0m\u001b[0;36m1\u001b[0m\u001b[0;34m]\u001b[0m\u001b[0;34m\u001b[0m\u001b[0m\n\u001b[1;32m      4\u001b[0m \u001b[0;32mprint\u001b[0m\u001b[0;34m(\u001b[0m\u001b[0mstudies\u001b[0m\u001b[0;34m)\u001b[0m\u001b[0;34m\u001b[0m\u001b[0m\n\u001b[1;32m      5\u001b[0m \u001b[0;34m\u001b[0m\u001b[0m\n",
      "\u001b[0;31mNameError\u001b[0m: name 'glob' is not defined"
     ]
    }
   ],
   "source": [
    "studies = glob.glob(os.path.join(data_dir, '*.nidm.zip'))\n",
    "local_spm_canonical_dir = '/Users/maullz/Software/spm12/canonical/'\n",
    "studies = studies[0:1]\n",
    "print(studies)\n",
    "\n",
    "for nidm_file in studies:\n",
    "    archive = zipfile.Zipfile(nidm_file,'r')\n",
    "    excursion_set = archive.read('ExcursionSet.nii.gz')\n",
    "    canonical_anat = glob.glob(os.path.join(local_spm_canonical_dir,'avg152T1.nii'))\n",
    "    plotting.plot_stat_map(excursion_set, canonical_anat, title=(nidm_file + \"_excursion_set_map\"))\n",
    "    \n"
   ]
  },
  {
   "cell_type": "code",
   "execution_count": null,
   "metadata": {
    "collapsed": true
   },
   "outputs": [],
   "source": []
  }
 ],
 "metadata": {
  "kernelspec": {
   "display_name": "Python 2",
   "language": "python",
   "name": "python2"
  },
  "language_info": {
   "codemirror_mode": {
    "name": "ipython",
    "version": 2
   },
   "file_extension": ".py",
   "mimetype": "text/x-python",
   "name": "python",
   "nbconvert_exporter": "python",
   "pygments_lexer": "ipython2",
   "version": "2.7.11"
  }
 },
 "nbformat": 4,
 "nbformat_minor": 1
}
