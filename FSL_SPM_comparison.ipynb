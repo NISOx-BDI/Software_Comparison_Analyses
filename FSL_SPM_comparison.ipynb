{
 "cells": [
  {
   "cell_type": "markdown",
   "metadata": {},
   "source": [
    "## FSL/SPM comparion with NIDM-Results\n",
    "\n",
    "This notebook downloads the SPM and FSL Software Comparison Project results from Neurovault, and compares them by obtaining the Sørensen–Dice coefficient."
   ]
  },
  {
   "cell_type": "code",
   "execution_count": null,
   "metadata": {
    "collapsed": false
   },
   "outputs": [
    {
     "name": "stderr",
     "output_type": "stream",
     "text": [
      "INFO:rdflib:RDFLib Version: 4.2.1\n"
     ]
    }
   ],
   "source": [
    "import os\n",
    "from rdflib.graph import Graph\n",
    "from rdflib.term import URIRef\n",
    "from subprocess import check_call\n",
    "from nidmresults.graph import Graph\n",
    "from nidmresults.objects.constants import SCR_FSL, SCR_SPM\n",
    "import collections\n",
    "import glob\n",
    "import zipfile\n",
    "import json\n",
    "from urllib2 import urlopen, URLError, HTTPError\n",
    "from urllib2 import Request\n",
    "import matlab.engine"
   ]
  },
  {
   "cell_type": "markdown",
   "metadata": {},
   "source": [
    "### Download the NIDM-Results packs from NeuroVault\n",
    "\n",
    " - Query NeuroVault's API to retreive all NIDM packs in the SPM collection ZJNRUHIM, and FSL collection UMMSIQGP \n",
    " - Download and save the packs in sub-folder `Neurovault_data` "
   ]
  },
  {
   "cell_type": "code",
   "execution_count": 3,
   "metadata": {
    "collapsed": false
   },
   "outputs": [
    {
     "name": "stdout",
     "output_type": "stream",
     "text": [
      "downloading http://neurovault.org/collections/ZJNRUHIM/spm_0001.nidm.zip at ./Neurovault_data/spm_0001.nidm.zip\n"
     ]
    }
   ],
   "source": [
    "request = Request('http://neurovault.org/api/collections/ZJNRUHIM/nidm_results/?limit=184&format=json')\n",
    "response = urlopen(request)\n",
    "elevations = response.read()\n",
    "data = json.loads(elevations)\n",
    "\n",
    "pwd = os.path.dirname(os.path.realpath('__file__'))\n",
    "data_dir = os.path.join(pwd, \"Neurovault_data\")\n",
    "\n",
    "\n",
    "if not os.path.isdir(data_dir):\n",
    "    os.makedirs(data_dir)\n",
    "\n",
    "\n",
    "for nidm_result in data[\"results\"]:\n",
    "    url = nidm_result[\"zip_file\"]\n",
    "    study_name = nidm_result[\"name\"]\n",
    "    \n",
    "    localzip = os.path.join(data_dir, study_name + \".zip\")\n",
    "    localzip_rel = localzip.replace(pwd, '.')\n",
    "    if not os.path.isfile(localzip):\n",
    "        # Copy .nidm.zip export locally in a the data directory\n",
    "        try:\n",
    "            f = urlopen(url)\n",
    "            print(\"downloading \" + url + \" at \" + localzip_rel)\n",
    "            with open(localzip, \"wb\") as local_file:\n",
    "                local_file.write(f.read())\n",
    "        except HTTPError, e:\n",
    "            raise Exception([\"HTTP Error:\" + e.code + url])\n",
    "        except URLError, e:\n",
    "            raise Exception([\"URL Error:\" + e.reason + url])\n",
    "    else:\n",
    "        print(url + \" already downloaded at \" + localzip_rel)"
   ]
  },
  {
   "cell_type": "code",
   "execution_count": 4,
   "metadata": {
    "collapsed": false
   },
   "outputs": [
    {
     "name": "stdout",
     "output_type": "stream",
     "text": [
      "downloading http://neurovault.org/collections/UMMSIQGP/group.gfeat.nidm.zip at ./Neurovault_data/group.gfeat.nidm.zip\n"
     ]
    }
   ],
   "source": [
    "request = Request('http://neurovault.org/api/collections/UMMSIQGP/nidm_results/?limit=184&format=json')\n",
    "response = urlopen(request)\n",
    "elevations = response.read()\n",
    "data = json.loads(elevations)\n",
    "\n",
    "pwd = os.path.dirname(os.path.realpath('__file__'))\n",
    "data_dir = os.path.join(pwd, \"Neurovault_data\")\n",
    "\n",
    "\n",
    "if not os.path.isdir(data_dir):\n",
    "    os.makedirs(data_dir)\n",
    "\n",
    "\n",
    "for nidm_result in data[\"results\"]:\n",
    "    url = nidm_result[\"zip_file\"]\n",
    "    study_name = nidm_result[\"name\"]\n",
    "    \n",
    "    localzip = os.path.join(data_dir, study_name + \".zip\")\n",
    "    localzip_rel = localzip.replace(pwd, '.')\n",
    "    if not os.path.isfile(localzip):\n",
    "        # Copy .nidm.zip export locally in a the data directory\n",
    "        try:\n",
    "            f = urlopen(url)\n",
    "            print(\"downloading \" + url + \" at \" + localzip_rel)\n",
    "            with open(localzip, \"wb\") as local_file:\n",
    "                local_file.write(f.read())\n",
    "        except HTTPError, e:\n",
    "            raise Exception([\"HTTP Error:\" + e.code + url])\n",
    "        except URLError, e:\n",
    "            raise Exception([\"URL Error:\" + e.reason + url])\n",
    "    else:\n",
    "        print(url + \" already downloaded at \" + localzip_rel)"
   ]
  },
  {
   "cell_type": "code",
   "execution_count": null,
   "metadata": {
    "collapsed": false
   },
   "outputs": [],
   "source": [
    "spm_archive = zipfile.ZipFile(os.path.join(data_dir, \"spm_0001.nidm.zip\"), 'r')\n",
    "fsl_archive = zipfile.ZipFile(os.path.join(data_dir, \"group.gfeat.nidm.zip\"), 'r')\n",
    "\n",
    "spm_tstat1 = spm_archive.read('TStatistic.nii.gz')\n",
    "fsl_tstat1 = fsl_archive.read('TStatistic_T001.nii.gz')\n",
    "\n",
    "eng = matlab.engine.start_matlab()\n",
    "eng.spm_reslice({spm_tstat1,fsl_tstat1})\n",
    "\n",
    "\n",
    "\n",
    "\n"
   ]
  },
  {
   "cell_type": "code",
   "execution_count": null,
   "metadata": {
    "collapsed": true
   },
   "outputs": [],
   "source": []
  }
 ],
 "metadata": {
  "kernelspec": {
   "display_name": "Python 2",
   "language": "python",
   "name": "python2"
  },
  "language_info": {
   "codemirror_mode": {
    "name": "ipython",
    "version": 2
   },
   "file_extension": ".py",
   "mimetype": "text/x-python",
   "name": "python",
   "nbconvert_exporter": "python",
   "pygments_lexer": "ipython2",
   "version": "2.7.11"
  }
 },
 "nbformat": 4,
 "nbformat_minor": 1
}
