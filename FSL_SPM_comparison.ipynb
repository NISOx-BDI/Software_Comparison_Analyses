{
 "cells": [
  {
   "cell_type": "markdown",
   "metadata": {},
   "source": [
    "## FSL/SPM comparion with NIDM-Results\n",
    "\n",
    "This notebook downloads the SPM and FSL Software Comparison Project results from Neurovault, and compares them by obtaining the Sørensen–Dice coefficient."
   ]
  },
  {
   "cell_type": "code",
   "execution_count": 9,
   "metadata": {
    "collapsed": false
   },
   "outputs": [],
   "source": [
    "import os\n",
    "from rdflib.graph import Graph\n",
    "from rdflib.term import URIRef\n",
    "from subprocess import check_call\n",
    "from nidmresults.graph import Graph\n",
    "from nidmresults.objects.constants import SCR_FSL, SCR_SPM\n",
    "import collections\n",
    "import glob\n",
    "import zipfile\n",
    "import json\n",
    "from urllib2 import urlopen, URLError, HTTPError\n",
    "from urllib2 import Request\n",
    "import matlab.engine"
   ]
  },
  {
   "cell_type": "markdown",
   "metadata": {},
   "source": [
    "### Download the NIDM-Results packs from NeuroVault\n",
    "\n",
    " - Query NeuroVault's API to retreive all NIDM packs in the SPM collection ZJNRUHIM, and FSL collection UMMSIQGP \n",
    " - Download and save the packs in sub-folder `Neurovault_data` "
   ]
  },
  {
   "cell_type": "code",
   "execution_count": 10,
   "metadata": {
    "collapsed": false
   },
   "outputs": [
    {
     "name": "stdout",
     "output_type": "stream",
     "text": [
      "http://neurovault.org/collections/ZJNRUHIM/spm_0001.nidm.zip already downloaded at ./Neurovault_data/spm_0001.nidm.zip\n"
     ]
    }
   ],
   "source": [
    "request = Request('http://neurovault.org/api/collections/ZJNRUHIM/nidm_results/?limit=184&format=json')\n",
    "response = urlopen(request)\n",
    "elevations = response.read()\n",
    "data = json.loads(elevations)\n",
    "\n",
    "pwd = os.path.dirname(os.path.realpath('__file__'))\n",
    "data_dir = os.path.join(pwd, \"Neurovault_data\")\n",
    "\n",
    "\n",
    "if not os.path.isdir(data_dir):\n",
    "    os.makedirs(data_dir)\n",
    "\n",
    "\n",
    "for nidm_result in data[\"results\"]:\n",
    "    url = nidm_result[\"zip_file\"]\n",
    "    study_name = nidm_result[\"name\"]\n",
    "    \n",
    "    localzip = os.path.join(data_dir, study_name + \".zip\")\n",
    "    localzip_rel = localzip.replace(pwd, '.')\n",
    "    if not os.path.isfile(localzip):\n",
    "        # Copy .nidm.zip export locally in a the data directory\n",
    "        try:\n",
    "            f = urlopen(url)\n",
    "            print(\"downloading \" + url + \" at \" + localzip_rel)\n",
    "            with open(localzip, \"wb\") as local_file:\n",
    "                local_file.write(f.read())\n",
    "        except HTTPError, e:\n",
    "            raise Exception([\"HTTP Error:\" + e.code + url])\n",
    "        except URLError, e:\n",
    "            raise Exception([\"URL Error:\" + e.reason + url])\n",
    "    else:\n",
    "        print(url + \" already downloaded at \" + localzip_rel)"
   ]
  },
  {
   "cell_type": "code",
   "execution_count": 11,
   "metadata": {
    "collapsed": false
   },
   "outputs": [
    {
     "name": "stdout",
     "output_type": "stream",
     "text": [
      "http://neurovault.org/collections/UMMSIQGP/group.gfeat.nidm.zip already downloaded at ./Neurovault_data/group.gfeat.nidm.zip\n"
     ]
    }
   ],
   "source": [
    "request = Request('http://neurovault.org/api/collections/UMMSIQGP/nidm_results/?limit=184&format=json')\n",
    "response = urlopen(request)\n",
    "elevations = response.read()\n",
    "data = json.loads(elevations)\n",
    "\n",
    "pwd = os.path.dirname(os.path.realpath('__file__'))\n",
    "data_dir = os.path.join(pwd, \"Neurovault_data\")\n",
    "\n",
    "\n",
    "if not os.path.isdir(data_dir):\n",
    "    os.makedirs(data_dir)\n",
    "\n",
    "\n",
    "for nidm_result in data[\"results\"]:\n",
    "    url = nidm_result[\"zip_file\"]\n",
    "    study_name = nidm_result[\"name\"]\n",
    "    \n",
    "    localzip = os.path.join(data_dir, study_name + \".zip\")\n",
    "    localzip_rel = localzip.replace(pwd, '.')\n",
    "    if not os.path.isfile(localzip):\n",
    "        # Copy .nidm.zip export locally in a the data directory\n",
    "        try:\n",
    "            f = urlopen(url)\n",
    "            print(\"downloading \" + url + \" at \" + localzip_rel)\n",
    "            with open(localzip, \"wb\") as local_file:\n",
    "                local_file.write(f.read())\n",
    "        except HTTPError, e:\n",
    "            raise Exception([\"HTTP Error:\" + e.code + url])\n",
    "        except URLError, e:\n",
    "            raise Exception([\"URL Error:\" + e.reason + url])\n",
    "    else:\n",
    "        print(url + \" already downloaded at \" + localzip_rel)"
   ]
  },
  {
   "cell_type": "code",
   "execution_count": 12,
   "metadata": {
    "collapsed": false
   },
   "outputs": [
    {
     "ename": "MatlabExecutionError",
     "evalue": "Undefined function 'spm_reslice' for input arguments of type 'cell'.\n",
     "output_type": "error",
     "traceback": [
      "\u001b[0;31m---------------------------------------------------------------------------\u001b[0m",
      "\u001b[0;31mMatlabExecutionError\u001b[0m                      Traceback (most recent call last)",
      "\u001b[0;32m<ipython-input-12-6b95ea1c8d91>\u001b[0m in \u001b[0;36m<module>\u001b[0;34m()\u001b[0m\n\u001b[1;32m      5\u001b[0m \u001b[0mfsl_tstat1\u001b[0m \u001b[0;34m=\u001b[0m \u001b[0mfsl_archive\u001b[0m\u001b[0;34m.\u001b[0m\u001b[0mread\u001b[0m\u001b[0;34m(\u001b[0m\u001b[0;34m'TStatistic_T001.nii.gz'\u001b[0m\u001b[0;34m)\u001b[0m\u001b[0;34m\u001b[0m\u001b[0m\n\u001b[1;32m      6\u001b[0m \u001b[0meng\u001b[0m \u001b[0;34m=\u001b[0m \u001b[0mmatlab\u001b[0m\u001b[0;34m.\u001b[0m\u001b[0mengine\u001b[0m\u001b[0;34m.\u001b[0m\u001b[0mstart_matlab\u001b[0m\u001b[0;34m(\u001b[0m\u001b[0;34m)\u001b[0m\u001b[0;34m\u001b[0m\u001b[0m\n\u001b[0;32m----> 7\u001b[0;31m \u001b[0meng\u001b[0m\u001b[0;34m.\u001b[0m\u001b[0mspm_reslice\u001b[0m\u001b[0;34m(\u001b[0m\u001b[0;34m{\u001b[0m\u001b[0mspm_tstat1\u001b[0m\u001b[0;34m,\u001b[0m\u001b[0mfsl_tstat1\u001b[0m\u001b[0;34m}\u001b[0m\u001b[0;34m)\u001b[0m\u001b[0;34m\u001b[0m\u001b[0m\n\u001b[0m\u001b[1;32m      8\u001b[0m \u001b[0;34m\u001b[0m\u001b[0m\n\u001b[1;32m      9\u001b[0m \u001b[0;34m\u001b[0m\u001b[0m\n",
      "\u001b[0;32m/Users/cmaumet/anaconda/lib/python2.7/site-packages/matlab/engine/matlabengine.pyc\u001b[0m in \u001b[0;36m__call__\u001b[0;34m(self, *args, **kwargs)\u001b[0m\n\u001b[1;32m     78\u001b[0m         \u001b[0;32melse\u001b[0m\u001b[0;34m:\u001b[0m\u001b[0;34m\u001b[0m\u001b[0m\n\u001b[1;32m     79\u001b[0m             return FutureResult(self._engine(), future, nargs, _stdout,\n\u001b[0;32m---> 80\u001b[0;31m                                 _stderr).result()\n\u001b[0m\u001b[1;32m     81\u001b[0m \u001b[0;34m\u001b[0m\u001b[0m\n\u001b[1;32m     82\u001b[0m \u001b[0;34m\u001b[0m\u001b[0m\n",
      "\u001b[0;32m/Users/cmaumet/anaconda/lib/python2.7/site-packages/matlab/engine/futureresult.pyc\u001b[0m in \u001b[0;36mresult\u001b[0;34m(self, timeout)\u001b[0m\n\u001b[1;32m    107\u001b[0m \u001b[0;34m\u001b[0m\u001b[0m\n\u001b[1;32m    108\u001b[0m             self._result = pythonengine.getFEvalResult(\n\u001b[0;32m--> 109\u001b[0;31m                 self._future,self._nargout, None, out=self._out, err=self._err)\n\u001b[0m\u001b[1;32m    110\u001b[0m             \u001b[0mself\u001b[0m\u001b[0;34m.\u001b[0m\u001b[0m_retrieved\u001b[0m \u001b[0;34m=\u001b[0m \u001b[0mTrue\u001b[0m\u001b[0;34m\u001b[0m\u001b[0m\n\u001b[1;32m    111\u001b[0m             \u001b[0;32mreturn\u001b[0m \u001b[0mself\u001b[0m\u001b[0;34m.\u001b[0m\u001b[0m_result\u001b[0m\u001b[0;34m\u001b[0m\u001b[0m\n",
      "\u001b[0;31mMatlabExecutionError\u001b[0m: Undefined function 'spm_reslice' for input arguments of type 'cell'.\n"
     ]
    }
   ],
   "source": [
    "spm_archive = zipfile.ZipFile(os.path.join(data_dir, \"spm_0001.nidm.zip\"), 'r')\n",
    "fsl_archive = zipfile.ZipFile(os.path.join(data_dir, \"group.gfeat.nidm.zip\"), 'r')\n",
    "\n",
    "spm_tstat1 = spm_archive.read('TStatistic.nii.gz')\n",
    "fsl_tstat1 = fsl_archive.read('TStatistic_T001.nii.gz')\n",
    "eng = matlab.engine.start_matlab()\n",
    "eng.spm_reslice({spm_tstat1,fsl_tstat1})\n",
    "\n",
    "\n",
    "\n",
    "\n",
    "\n"
   ]
  },
  {
   "cell_type": "code",
   "execution_count": 7,
   "metadata": {
    "collapsed": true
   },
   "outputs": [],
   "source": [
    "import matlab.engine\n",
    "eng = matlab.engine.start_matlab()"
   ]
  },
  {
   "cell_type": "code",
   "execution_count": null,
   "metadata": {
    "collapsed": true
   },
   "outputs": [],
   "source": []
  }
 ],
 "metadata": {
  "anaconda-cloud": {},
  "kernelspec": {
   "display_name": "Python [Root]",
   "language": "python",
   "name": "Python [Root]"
  },
  "language_info": {
   "codemirror_mode": {
    "name": "ipython",
    "version": 2
   },
   "file_extension": ".py",
   "mimetype": "text/x-python",
   "name": "python",
   "nbconvert_exporter": "python",
   "pygments_lexer": "ipython2",
   "version": "2.7.12"
  }
 },
 "nbformat": 4,
 "nbformat_minor": 1
}
