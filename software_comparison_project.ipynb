{
 "cells": [
  {
   "cell_type": "markdown",
   "metadata": {},
   "source": [
    "## Software Comparison Project with NIDM-Results\n",
    "\n",
    "This notebook demonstates how to reproduce the results presented in the Software Comparison Project publication using NIDM-Results packs available on [NeuroVault (ZJNRUHIM)](http://neurovault.org/collections/ZJNRUHIM/).\n"
   ]
  },
  {
   "cell_type": "code",
   "execution_count": 1,
   "metadata": {
    "collapsed": false
   },
   "outputs": [],
   "source": [
    "import os\n",
    "from rdflib.graph import Graph\n",
    "from rdflib.term import URIRef\n",
    "from subprocess import check_call\n",
    "from nidmresults.graph import Graph\n",
    "from nidmresults.objects.constants import SCR_FSL, SCR_SPM\n",
    "import collections\n",
    "import glob\n",
    "import zipfile\n",
    "import json\n",
    "from urllib2 import urlopen, URLError, HTTPError\n",
    "from urllib2 import Request\n",
    "from nilearn import plotting"
   ]
  },
  {
   "cell_type": "markdown",
   "metadata": {},
   "source": [
    "### Download the NIDM-Results packs from NeuroVault\n",
    "\n",
    " - Query NeuroVault's API to retreive all NIDM packs in collection ZJNRUHIM\n",
    " - Download and save the packs in sub-folder `input/data` "
   ]
  },
  {
   "cell_type": "code",
   "execution_count": 8,
   "metadata": {
    "collapsed": false
   },
   "outputs": [
    {
     "name": "stdout",
     "output_type": "stream",
     "text": [
      "ZJNRUHIM\n",
      "http://neurovault.org/collections/ZJNRUHIM/spm_0001.nidm.zip already downloaded at ./input/data/spm_0001.nidm.zip\n",
      "UMMSIQGP\n",
      "downloading http://neurovault.org/collections/UMMSIQGP/group.gfeat.nidm.zip at ./input/data/group.gfeat.nidm.zip\n"
     ]
    }
   ],
   "source": [
    "nv_collections = (\n",
    "    'ZJNRUHIM',\n",
    "    'UMMSIQGP'\n",
    ")\n",
    "\n",
    "for nv_collection in nv_collections:\n",
    "    print(nv_collection)\n",
    "    request = Request('http://neurovault.org/api/collections/' + nv_collection + '/nidm_results/?limit=184&format=json')\n",
    "    response = urlopen(request)\n",
    "    elevations = response.read()\n",
    "    data = json.loads(elevations)\n",
    "\n",
    "    pwd = os.path.dirname(os.path.realpath('__file__'))\n",
    "    input_dir = os.path.join(pwd, \"input\")\n",
    "    data_dir = os.path.join(input_dir, \"data\")\n",
    "\n",
    "    if not os.path.isdir(data_dir):\n",
    "        if not os.path.isdir(input_dir):\n",
    "            os.makedirs(input_dir)\n",
    "        os.makedirs(data_dir)\n",
    "\n",
    "\n",
    "    for nidm_result in data[\"results\"]:\n",
    "        url = nidm_result[\"zip_file\"]\n",
    "        study_name = nidm_result[\"name\"]\n",
    "\n",
    "        localzip = os.path.join(data_dir, study_name + \".zip\")\n",
    "        localzip_rel = localzip.replace(pwd, '.')\n",
    "        if not os.path.isfile(localzip):\n",
    "            # Copy .nidm.zip export locally in a the data directory\n",
    "            try:\n",
    "                f = urlopen(url)\n",
    "                print(\"downloading \" + url + \" at \" + localzip_rel)\n",
    "                with open(localzip, \"wb\") as local_file:\n",
    "                    local_file.write(f.read())\n",
    "            except HTTPError, e:\n",
    "                raise Exception([\"HTTP Error:\" + e.code + url])\n",
    "            except URLError, e:\n",
    "                raise Exception([\"URL Error:\" + e.reason + url])\n",
    "        else:\n",
    "            print(url + \" already downloaded at \" + localzip_rel)"
   ]
  },
  {
   "cell_type": "code",
   "execution_count": 9,
   "metadata": {
    "collapsed": false
   },
   "outputs": [
    {
     "name": "stdout",
     "output_type": "stream",
     "text": [
      "['/Users/cmaumet/Projects/Data_sharing/dev/Software_Comparison/input/data/group.gfeat.nidm.zip']\n"
     ]
    },
    {
     "ename": "KeyError",
     "evalue": "\"There is no item named 'ExcursionSet.nii.gz' in the archive\"",
     "output_type": "error",
     "traceback": [
      "\u001b[0;31m---------------------------------------------------------------------------\u001b[0m",
      "\u001b[0;31mKeyError\u001b[0m                                  Traceback (most recent call last)",
      "\u001b[0;32m<ipython-input-9-2848528e9fc1>\u001b[0m in \u001b[0;36m<module>\u001b[0;34m()\u001b[0m\n\u001b[1;32m      6\u001b[0m \u001b[0;32mfor\u001b[0m \u001b[0mnidm_file\u001b[0m \u001b[0;32min\u001b[0m \u001b[0mstudies\u001b[0m\u001b[0;34m:\u001b[0m\u001b[0;34m\u001b[0m\u001b[0m\n\u001b[1;32m      7\u001b[0m     \u001b[0marchive\u001b[0m \u001b[0;34m=\u001b[0m \u001b[0mzipfile\u001b[0m\u001b[0;34m.\u001b[0m\u001b[0mZipFile\u001b[0m\u001b[0;34m(\u001b[0m\u001b[0mnidm_file\u001b[0m\u001b[0;34m,\u001b[0m\u001b[0;34m'r'\u001b[0m\u001b[0;34m)\u001b[0m\u001b[0;34m\u001b[0m\u001b[0m\n\u001b[0;32m----> 8\u001b[0;31m     \u001b[0mexcursion_set\u001b[0m \u001b[0;34m=\u001b[0m \u001b[0marchive\u001b[0m\u001b[0;34m.\u001b[0m\u001b[0mread\u001b[0m\u001b[0;34m(\u001b[0m\u001b[0;34m'ExcursionSet.nii.gz'\u001b[0m\u001b[0;34m)\u001b[0m\u001b[0;34m\u001b[0m\u001b[0m\n\u001b[0m\u001b[1;32m      9\u001b[0m     \u001b[0mcanonical_anat\u001b[0m \u001b[0;34m=\u001b[0m \u001b[0mglob\u001b[0m\u001b[0;34m.\u001b[0m\u001b[0mglob\u001b[0m\u001b[0;34m(\u001b[0m\u001b[0mos\u001b[0m\u001b[0;34m.\u001b[0m\u001b[0mpath\u001b[0m\u001b[0;34m.\u001b[0m\u001b[0mjoin\u001b[0m\u001b[0;34m(\u001b[0m\u001b[0mlocal_spm_canonical_dir\u001b[0m\u001b[0;34m,\u001b[0m\u001b[0;34m'avg152T1.nii'\u001b[0m\u001b[0;34m)\u001b[0m\u001b[0;34m)\u001b[0m\u001b[0;34m[\u001b[0m\u001b[0;36m0\u001b[0m\u001b[0;34m]\u001b[0m\u001b[0;34m\u001b[0m\u001b[0m\n\u001b[1;32m     10\u001b[0m     \u001b[0mplotting\u001b[0m\u001b[0;34m.\u001b[0m\u001b[0mplot_stat_map\u001b[0m\u001b[0;34m(\u001b[0m\u001b[0mexcursion_set\u001b[0m\u001b[0;34m,\u001b[0m \u001b[0mcanonical_anat\u001b[0m\u001b[0;34m,\u001b[0m \u001b[0mtitle\u001b[0m\u001b[0;34m=\u001b[0m\u001b[0;34m(\u001b[0m\u001b[0mnidm_file\u001b[0m \u001b[0;34m+\u001b[0m \u001b[0;34m\"_excursion_set_map\"\u001b[0m\u001b[0;34m)\u001b[0m\u001b[0;34m)\u001b[0m\u001b[0;34m\u001b[0m\u001b[0m\n",
      "\u001b[0;32m/Users/cmaumet/anaconda/lib/python2.7/zipfile.pyc\u001b[0m in \u001b[0;36mread\u001b[0;34m(self, name, pwd)\u001b[0m\n\u001b[1;32m    933\u001b[0m     \u001b[0;32mdef\u001b[0m \u001b[0mread\u001b[0m\u001b[0;34m(\u001b[0m\u001b[0mself\u001b[0m\u001b[0;34m,\u001b[0m \u001b[0mname\u001b[0m\u001b[0;34m,\u001b[0m \u001b[0mpwd\u001b[0m\u001b[0;34m=\u001b[0m\u001b[0mNone\u001b[0m\u001b[0;34m)\u001b[0m\u001b[0;34m:\u001b[0m\u001b[0;34m\u001b[0m\u001b[0m\n\u001b[1;32m    934\u001b[0m         \u001b[0;34m\"\"\"Return file bytes (as a string) for name.\"\"\"\u001b[0m\u001b[0;34m\u001b[0m\u001b[0m\n\u001b[0;32m--> 935\u001b[0;31m         \u001b[0;32mreturn\u001b[0m \u001b[0mself\u001b[0m\u001b[0;34m.\u001b[0m\u001b[0mopen\u001b[0m\u001b[0;34m(\u001b[0m\u001b[0mname\u001b[0m\u001b[0;34m,\u001b[0m \u001b[0;34m\"r\"\u001b[0m\u001b[0;34m,\u001b[0m \u001b[0mpwd\u001b[0m\u001b[0;34m)\u001b[0m\u001b[0;34m.\u001b[0m\u001b[0mread\u001b[0m\u001b[0;34m(\u001b[0m\u001b[0;34m)\u001b[0m\u001b[0;34m\u001b[0m\u001b[0m\n\u001b[0m\u001b[1;32m    936\u001b[0m \u001b[0;34m\u001b[0m\u001b[0m\n\u001b[1;32m    937\u001b[0m     \u001b[0;32mdef\u001b[0m \u001b[0mopen\u001b[0m\u001b[0;34m(\u001b[0m\u001b[0mself\u001b[0m\u001b[0;34m,\u001b[0m \u001b[0mname\u001b[0m\u001b[0;34m,\u001b[0m \u001b[0mmode\u001b[0m\u001b[0;34m=\u001b[0m\u001b[0;34m\"r\"\u001b[0m\u001b[0;34m,\u001b[0m \u001b[0mpwd\u001b[0m\u001b[0;34m=\u001b[0m\u001b[0mNone\u001b[0m\u001b[0;34m)\u001b[0m\u001b[0;34m:\u001b[0m\u001b[0;34m\u001b[0m\u001b[0m\n",
      "\u001b[0;32m/Users/cmaumet/anaconda/lib/python2.7/zipfile.pyc\u001b[0m in \u001b[0;36mopen\u001b[0;34m(self, name, mode, pwd)\u001b[0m\n\u001b[1;32m    959\u001b[0m             \u001b[0;32melse\u001b[0m\u001b[0;34m:\u001b[0m\u001b[0;34m\u001b[0m\u001b[0m\n\u001b[1;32m    960\u001b[0m                 \u001b[0;31m# Get info object for name\u001b[0m\u001b[0;34m\u001b[0m\u001b[0;34m\u001b[0m\u001b[0m\n\u001b[0;32m--> 961\u001b[0;31m                 \u001b[0mzinfo\u001b[0m \u001b[0;34m=\u001b[0m \u001b[0mself\u001b[0m\u001b[0;34m.\u001b[0m\u001b[0mgetinfo\u001b[0m\u001b[0;34m(\u001b[0m\u001b[0mname\u001b[0m\u001b[0;34m)\u001b[0m\u001b[0;34m\u001b[0m\u001b[0m\n\u001b[0m\u001b[1;32m    962\u001b[0m \u001b[0;34m\u001b[0m\u001b[0m\n\u001b[1;32m    963\u001b[0m             \u001b[0mzef_file\u001b[0m\u001b[0;34m.\u001b[0m\u001b[0mseek\u001b[0m\u001b[0;34m(\u001b[0m\u001b[0mzinfo\u001b[0m\u001b[0;34m.\u001b[0m\u001b[0mheader_offset\u001b[0m\u001b[0;34m,\u001b[0m \u001b[0;36m0\u001b[0m\u001b[0;34m)\u001b[0m\u001b[0;34m\u001b[0m\u001b[0m\n",
      "\u001b[0;32m/Users/cmaumet/anaconda/lib/python2.7/zipfile.pyc\u001b[0m in \u001b[0;36mgetinfo\u001b[0;34m(self, name)\u001b[0m\n\u001b[1;32m    907\u001b[0m         \u001b[0;32mif\u001b[0m \u001b[0minfo\u001b[0m \u001b[0;32mis\u001b[0m \u001b[0mNone\u001b[0m\u001b[0;34m:\u001b[0m\u001b[0;34m\u001b[0m\u001b[0m\n\u001b[1;32m    908\u001b[0m             raise KeyError(\n\u001b[0;32m--> 909\u001b[0;31m                 'There is no item named %r in the archive' % name)\n\u001b[0m\u001b[1;32m    910\u001b[0m \u001b[0;34m\u001b[0m\u001b[0m\n\u001b[1;32m    911\u001b[0m         \u001b[0;32mreturn\u001b[0m \u001b[0minfo\u001b[0m\u001b[0;34m\u001b[0m\u001b[0m\n",
      "\u001b[0;31mKeyError\u001b[0m: \"There is no item named 'ExcursionSet.nii.gz' in the archive\""
     ]
    }
   ],
   "source": [
    "studies = glob.glob(os.path.join(data_dir, '*.nidm.zip'))\n",
    "local_spm_canonical_dir = '/Users/maullz/Software/spm12/canonical/'\n",
    "studies = studies[0:1]\n",
    "print(studies)\n",
    "\n",
    "for nidm_file in studies:\n",
    "    archive = zipfile.ZipFile(nidm_file,'r')\n",
    "    excursion_set = archive.read('ExcursionSet.nii.gz')\n",
    "    canonical_anat = glob.glob(os.path.join(local_spm_canonical_dir,'avg152T1.nii'))[0]\n",
    "    plotting.plot_stat_map(excursion_set, canonical_anat, title=(nidm_file + \"_excursion_set_map\"))\n",
    "    \n"
   ]
  },
  {
   "cell_type": "code",
   "execution_count": null,
   "metadata": {
    "collapsed": true
   },
   "outputs": [],
   "source": []
  }
 ],
 "metadata": {
  "anaconda-cloud": {},
  "kernelspec": {
   "display_name": "Python [Root]",
   "language": "python",
   "name": "Python [Root]"
  },
  "language_info": {
   "codemirror_mode": {
    "name": "ipython",
    "version": 2
   },
   "file_extension": ".py",
   "mimetype": "text/x-python",
   "name": "python",
   "nbconvert_exporter": "python",
   "pygments_lexer": "ipython2",
   "version": "2.7.12"
  }
 },
 "nbformat": 4,
 "nbformat_minor": 1
}
